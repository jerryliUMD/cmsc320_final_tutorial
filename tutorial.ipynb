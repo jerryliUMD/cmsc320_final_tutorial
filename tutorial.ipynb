{
 "cells": [
  {
   "cell_type": "markdown",
   "id": "ff1f944f-71ec-4f48-8fac-c0fb0802d1fb",
   "metadata": {},
   "source": [
    "# This is a tutorial"
   ]
  },
  {
   "cell_type": "markdown",
   "id": "4c9d8ecc",
   "metadata": {},
   "source": [
    "## Libraries"
   ]
  },
  {
   "cell_type": "code",
   "execution_count": 183,
   "id": "90bee056-274c-4d8e-890e-b8ab73ca1793",
   "metadata": {},
   "outputs": [],
   "source": [
    "import pandas as pd\n",
    "import numpy as np\n",
    "import seaborn as sns #pip install seaborn\n",
    "import matplotlib.pyplot as plt\n",
    "from IPython.display import display, HTML #pip install ipython"
   ]
  },
  {
   "cell_type": "markdown",
   "id": "fcc52f42",
   "metadata": {},
   "source": [
    "## Step 1: Data Collection\n",
    "In this step, we will gather interested data to explore. <br>\n",
    "Source links: (for the csv files, check out this repository...)<br>\n",
    "[1]https://ourworldindata.org/child-maltreatment-and-educational-outcomes <br>\n",
    "[2]https://www.kaggle.com/datasets/jessemostipak/college-tuition-diversity-and-pay <br>\n",
    "[3]https://nces.ed.gov/programs/coe/indicator/cpbcollege-enrollment-rate#:~:text=The%20overall%20college%20enrollment%20rate%20of%2018%2D%20to%2024%2Dyear,%2D%20or%204%2Dyear%20institutions <br>\n",
    "[4]https://www.kaggle.com/datasets/shariful07/student-mental-health <br>\n",
    "[5]https://archive-beta.ics.uci.edu/dataset/697/predict+students+dropout+and+academic+success <br>\n",
    "[6]https://www.cdc.gov/sleep/data-and-statistics/high-school-students.html <br>\n",
    "[7]https://nces.ed.gov/programs/coe/indicator/a01/violent-deaths-and-shootings <br>\n",
    "[8]https://research.com/education/college-drug-abuse-statistics <br>"
   ]
  },
  {
   "cell_type": "code",
   "execution_count": 184,
   "id": "f568f29d-6092-408b-b03a-59436d1c79cf",
   "metadata": {},
   "outputs": [],
   "source": [
    "df_children_work = pd.read_csv('working-children-out-of-school-ages-7-14-vs-hours-worked-by-children-ages-7-14.csv')\n",
    "df_usa_salary_potential = pd.read_csv('usa_salary_potential.csv')\n",
    "df_usa_college_enroll_rate = pd.read_csv('usa_college_enroll_rate.csv')\n",
    "df_usa_college_enroll_rate_enthnicity = pd.read_csv('usa_college_enroll_rate_ethnicity.csv')\n",
    "df_malaysia_student_mental_health = pd.read_csv('malaysia_student_mental_health.csv')\n",
    "df_usa_highschool_sleep_trends = pd.read_csv('usa_highschool_sleep_trends.csv')\n",
    "df_usa_youth_violence_history = pd.read_csv('usa_youth_violence_history.csv')\n",
    "df_drug_abuse_reasons = pd.read_csv('drug_abuse_top_reasons.csv')\n",
    "df_europe_students = pd.read_csv('europe_college_student_data.csv', sep=';')"
   ]
  },
  {
   "cell_type": "code",
   "execution_count": 185,
   "id": "5ccfddb4",
   "metadata": {},
   "outputs": [],
   "source": [
    "#If you want to see the whole table without the '...', you can use the following.\n",
    "#pd.set_option('display.max_columns', None)  # Show all columns\n",
    "#pd.set_option('display.max_rows', None)     # Show all rows\n",
    "\n",
    "#If this is too much data, you can reset back to default (recommended).\n",
    "#pd.reset_option('display.max_columns')\n",
    "#pd.reset_option('display.max_rows')\n",
    "\n",
    "def showTable(df, name):\n",
    "    display(HTML(f\"<div style='text-align:center;'><h4>{name}</h4></div>\"))\n",
    "    display(df.head(10))"
   ]
  },
  {
   "cell_type": "markdown",
   "id": "874842aa",
   "metadata": {},
   "source": [
    "Brief: Children working hours..."
   ]
  },
  {
   "cell_type": "code",
   "execution_count": 186,
   "id": "c855ed9a",
   "metadata": {},
   "outputs": [],
   "source": [
    "#showTable(df_children_work, 'Working children out of school vs. hours worked by children (age 7-14)')"
   ]
  },
  {
   "cell_type": "markdown",
   "id": "ae9fee64",
   "metadata": {},
   "source": [
    "Brief: Perhaps money is one thing that attracts people to go to universities. It is one of the motivations that drive students to persue higher education. add more..."
   ]
  },
  {
   "cell_type": "code",
   "execution_count": 187,
   "id": "6e597daa",
   "metadata": {},
   "outputs": [],
   "source": [
    "#showTable(df_usa_salary_potential, 'Potential Salary for College Graduates (USA)')"
   ]
  },
  {
   "cell_type": "markdown",
   "id": "f9dc94ab",
   "metadata": {},
   "source": [
    "Brief: We would like to see college enrollment rate and enthnicity rate because knowing this could help us understand more about students' identity and see part of the college environment. Since the United States is a culturally diverse country, student diversity will be an interesting factor to consider. You can exlpore more details on your own. "
   ]
  },
  {
   "cell_type": "code",
   "execution_count": 188,
   "id": "981a6833",
   "metadata": {},
   "outputs": [],
   "source": [
    "#showTable(df_usa_college_enroll_rate, 'USA College Enroll Rate 2010 - 2021 for ages 18 to 24')\n",
    "#showTable(df_usa_college_enroll_rate_enthnicity, 'USA College Enroll Rate 2010 - 2021 Ethnicity ages 18 to 24')"
   ]
  },
  {
   "cell_type": "markdown",
   "id": "db8611e5",
   "metadata": {},
   "source": [
    "Brief: While students are in school, mental health could be an issue. Maybe it is because they want to work hard to get a good job, or to achieve something. The stress level in different courses could be an indicator of this. Here, we found data from International Islamic University Malaysia in year 2020 to show case this. (We are interested in age, course, and mental state.)"
   ]
  },
  {
   "cell_type": "code",
   "execution_count": 189,
   "id": "174e3a9c",
   "metadata": {},
   "outputs": [],
   "source": [
    "#showTable(df_malaysia_student_mental_health, 'Student Mental Health in International Islamic University Malaysia in year 2020')"
   ]
  },
  {
   "cell_type": "markdown",
   "id": "1ee029f3",
   "metadata": {},
   "source": [
    "Brief: For high school students, we decided to look into their sleep data in the U.S to see if the sleep data can tell us something. Of course, without other additional data, we cannot make conclusions about how sleep can make a student success or do not so good in their education. However, our goal is to see the big trend. For details about this kind of topic, you can explore the reasons behind it."
   ]
  },
  {
   "cell_type": "code",
   "execution_count": 190,
   "id": "9191c8d3",
   "metadata": {},
   "outputs": [],
   "source": [
    "#showTable(df_usa_highschool_sleep_trends, 'National trends in short sleep duration among US high school students, 2009–2019')"
   ]
  },
  {
   "cell_type": "markdown",
   "id": "c497ba87",
   "metadata": {},
   "source": [
    "Brief: We would also like to explore the violence from age 5 to 18. While the datasets for mental health and violence we have here are completely different from each other, we thought that since violence will get announced and spread across media, like school shootings in the U.S, so people might get worried or panic. From the statistic point of view, this dataset from the National Center for Education could let us see the number of violences. From the emotion point of view, we could 'start' to see students' view of violence. For more details, you would need to explore on your own. "
   ]
  },
  {
   "cell_type": "code",
   "execution_count": 191,
   "id": "d3c467f5",
   "metadata": {},
   "outputs": [],
   "source": [
    "#showTable(df_usa_youth_violence_history, 'Violent Deaths at School and Away From School and School Shootings in USA (age 5-18)')"
   ]
  },
  {
   "cell_type": "markdown",
   "id": "e33e322c",
   "metadata": {},
   "source": [
    "Brief: Drug abuse. This is a direct cause to education performance in common sense. Because it became common sense, we would like to know why. Here is a student dataset from the University of Sao Paulo to show this. "
   ]
  },
  {
   "cell_type": "code",
   "execution_count": 192,
   "id": "f4e60c25",
   "metadata": {},
   "outputs": [],
   "source": [
    "#showTable(df_drug_abuse_reasons, 'Common Reasons for Drug Abuse')"
   ]
  },
  {
   "cell_type": "markdown",
   "id": "17e75f0d",
   "metadata": {},
   "source": [
    "Brief: Europe students..."
   ]
  },
  {
   "cell_type": "code",
   "execution_count": 193,
   "id": "5166a82c",
   "metadata": {},
   "outputs": [],
   "source": [
    "#showTable(df_europe_students, 'Europe College Student Info')"
   ]
  },
  {
   "cell_type": "markdown",
   "id": "e4f37d6f",
   "metadata": {},
   "source": [
    "Still alive? Keep reading."
   ]
  },
  {
   "cell_type": "markdown",
   "id": "08969e5d",
   "metadata": {},
   "source": [
    "## Step 2: Data Processing\n",
    "Many times, the data we got is messy. In this process, we will clean some data. Check for NaN values and duplicate rows first. Drop uneccessary columns, and maybe change the column name if needed."
   ]
  },
  {
   "cell_type": "code",
   "execution_count": 194,
   "id": "fce556e3",
   "metadata": {},
   "outputs": [],
   "source": [
    "#df.columns\n",
    "def peekData(df):\n",
    "    print('---------------------------------------------------')\n",
    "    print('Table NaN values count for each column\\n') \n",
    "    print(df.isna().sum(), '\\n')\n",
    "    print('Table duplicated rows count', df.duplicated().sum(), '\\n')\n",
    "    print('---------------------------------------------------')"
   ]
  },
  {
   "cell_type": "code",
   "execution_count": 195,
   "id": "572d52b9",
   "metadata": {},
   "outputs": [
    {
     "name": "stdout",
     "output_type": "stream",
     "text": [
      "---------------------------------------------------\n",
      "Table NaN values count for each column\n",
      "\n",
      "Entity                                                                               0\n",
      "Code                                                                              3281\n",
      "Year                                                                                 0\n",
      "Children in employment, work only (% of children in employment, ages 7-14)       57865\n",
      "Average working hours of children, study and work, ages 7-14 (hours per week)    58015\n",
      "Population (historical estimates)                                                   48\n",
      "Continent                                                                        57862\n",
      "dtype: int64 \n",
      "\n",
      "Table duplicated rows count 0 \n",
      "\n",
      "---------------------------------------------------\n"
     ]
    }
   ],
   "source": [
    "peekData(df_children_work)"
   ]
  },
  {
   "cell_type": "markdown",
   "id": "9baa88fe",
   "metadata": {},
   "source": [
    "Observed: For the children work dataset, there are quite a lot of NaN values, so doing something like imputation won't work. In this case, we are interested in Entity, year, population, and child work hours. So, we can drop the rows that has NaN values in these columns to then see what result we get. Also, the column name is too long, so we will shorten the name."
   ]
  },
  {
   "cell_type": "code",
   "execution_count": 196,
   "id": "cafe4b77",
   "metadata": {},
   "outputs": [
    {
     "data": {
      "text/html": [
       "<div>\n",
       "<style scoped>\n",
       "    .dataframe tbody tr th:only-of-type {\n",
       "        vertical-align: middle;\n",
       "    }\n",
       "\n",
       "    .dataframe tbody tr th {\n",
       "        vertical-align: top;\n",
       "    }\n",
       "\n",
       "    .dataframe thead th {\n",
       "        text-align: right;\n",
       "    }\n",
       "</style>\n",
       "<table border=\"1\" class=\"dataframe\">\n",
       "  <thead>\n",
       "    <tr style=\"text-align: right;\">\n",
       "      <th></th>\n",
       "      <th>Entity</th>\n",
       "      <th>Year</th>\n",
       "      <th>Work_only_pct</th>\n",
       "      <th>Work_study(hrs/week)</th>\n",
       "      <th>Population</th>\n",
       "    </tr>\n",
       "  </thead>\n",
       "  <tbody>\n",
       "    <tr>\n",
       "      <th>1</th>\n",
       "      <td>Afghanistan</td>\n",
       "      <td>2011</td>\n",
       "      <td>50.000000</td>\n",
       "      <td>13.10000</td>\n",
       "      <td>29249156.0</td>\n",
       "    </tr>\n",
       "    <tr>\n",
       "      <th>598</th>\n",
       "      <td>Albania</td>\n",
       "      <td>2010</td>\n",
       "      <td>5.100000</td>\n",
       "      <td>13.60000</td>\n",
       "      <td>2913402.0</td>\n",
       "    </tr>\n",
       "    <tr>\n",
       "      <th>855</th>\n",
       "      <td>Algeria</td>\n",
       "      <td>2013</td>\n",
       "      <td>4.508655</td>\n",
       "      <td>3.60000</td>\n",
       "      <td>38000628.0</td>\n",
       "    </tr>\n",
       "    <tr>\n",
       "      <th>1487</th>\n",
       "      <td>Angola</td>\n",
       "      <td>2001</td>\n",
       "      <td>26.600000</td>\n",
       "      <td>12.50000</td>\n",
       "      <td>16941584.0</td>\n",
       "    </tr>\n",
       "    <tr>\n",
       "      <th>2389</th>\n",
       "      <td>Armenia</td>\n",
       "      <td>2010</td>\n",
       "      <td>0.000000</td>\n",
       "      <td>5.40000</td>\n",
       "      <td>2946296.0</td>\n",
       "    </tr>\n",
       "    <tr>\n",
       "      <th>...</th>\n",
       "      <td>...</td>\n",
       "      <td>...</td>\n",
       "      <td>...</td>\n",
       "      <td>...</td>\n",
       "      <td>...</td>\n",
       "    </tr>\n",
       "    <tr>\n",
       "      <th>56267</th>\n",
       "      <td>Venezuela</td>\n",
       "      <td>2006</td>\n",
       "      <td>19.844778</td>\n",
       "      <td>21.30000</td>\n",
       "      <td>27102084.0</td>\n",
       "    </tr>\n",
       "    <tr>\n",
       "      <th>56268</th>\n",
       "      <td>Venezuela</td>\n",
       "      <td>2013</td>\n",
       "      <td>31.134620</td>\n",
       "      <td>16.28939</td>\n",
       "      <td>29838022.0</td>\n",
       "    </tr>\n",
       "    <tr>\n",
       "      <th>56526</th>\n",
       "      <td>Vietnam</td>\n",
       "      <td>2012</td>\n",
       "      <td>19.000000</td>\n",
       "      <td>11.60000</td>\n",
       "      <td>89301328.0</td>\n",
       "    </tr>\n",
       "    <tr>\n",
       "      <th>57245</th>\n",
       "      <td>Yemen</td>\n",
       "      <td>2010</td>\n",
       "      <td>35.970116</td>\n",
       "      <td>16.90000</td>\n",
       "      <td>24743944.0</td>\n",
       "    </tr>\n",
       "    <tr>\n",
       "      <th>57629</th>\n",
       "      <td>Zambia</td>\n",
       "      <td>2008</td>\n",
       "      <td>18.575392</td>\n",
       "      <td>4.20000</td>\n",
       "      <td>12852968.0</td>\n",
       "    </tr>\n",
       "  </tbody>\n",
       "</table>\n",
       "<p>132 rows × 5 columns</p>\n",
       "</div>"
      ],
      "text/plain": [
       "            Entity  Year  Work_only_pct  Work_study(hrs/week)  Population\n",
       "1      Afghanistan  2011      50.000000              13.10000  29249156.0\n",
       "598        Albania  2010       5.100000              13.60000   2913402.0\n",
       "855        Algeria  2013       4.508655               3.60000  38000628.0\n",
       "1487        Angola  2001      26.600000              12.50000  16941584.0\n",
       "2389       Armenia  2010       0.000000               5.40000   2946296.0\n",
       "...            ...   ...            ...                   ...         ...\n",
       "56267    Venezuela  2006      19.844778              21.30000  27102084.0\n",
       "56268    Venezuela  2013      31.134620              16.28939  29838022.0\n",
       "56526      Vietnam  2012      19.000000              11.60000  89301328.0\n",
       "57245        Yemen  2010      35.970116              16.90000  24743944.0\n",
       "57629       Zambia  2008      18.575392               4.20000  12852968.0\n",
       "\n",
       "[132 rows x 5 columns]"
      ]
     },
     "execution_count": 196,
     "metadata": {},
     "output_type": "execute_result"
    }
   ],
   "source": [
    "#Don't need Continent and Code column, drop it.\n",
    "df_children_work.drop(columns=['Continent', 'Code'], inplace=True)\n",
    "\n",
    "df_children_work.rename(\n",
    "    columns={'Children in employment, work only (% of children in employment, ages 7-14)': 'Work_only_pct', \n",
    "             'Average working hours of children, study and work, ages 7-14 (hours per week)': 'Work_study(hrs/week)',\n",
    "             'Population (historical estimates)' : 'Population'}, \n",
    "    inplace=True\n",
    ")\n",
    "\n",
    "df_children_work[(df_children_work['Year'] >= 1999) & (df_children_work['Year'] <= 2016)]\n",
    "\n",
    "df_children_work = df_children_work.dropna(subset=['Work_only_pct', 'Work_study(hrs/week)', 'Population'])\n",
    "\n",
    "#if you want to double check, uncomment this line.\n",
    "#peekData(df_children_work) \n",
    "\n",
    "df_children_work"
   ]
  },
  {
   "cell_type": "code",
   "execution_count": 197,
   "id": "36d37914",
   "metadata": {},
   "outputs": [
    {
     "name": "stdout",
     "output_type": "stream",
     "text": [
      "---------------------------------------------------\n",
      "Table NaN values count for each column\n",
      "\n",
      "rank                          0\n",
      "name                          0\n",
      "state_name                    0\n",
      "early_career_pay              0\n",
      "mid_career_pay                0\n",
      "make_world_better_percent    33\n",
      "stem_percent                  0\n",
      "dtype: int64 \n",
      "\n",
      "Table duplicated rows count 1 \n",
      "\n",
      "---------------------------------------------------\n"
     ]
    }
   ],
   "source": [
    "peekData(df_usa_salary_potential)"
   ]
  },
  {
   "cell_type": "markdown",
   "id": "bdfc116d",
   "metadata": {},
   "source": [
    "Observed: For the USA college graduate postential salary, we care about the pay, so we will drop the irrelevant column \"make_world_better_percent\"."
   ]
  },
  {
   "cell_type": "code",
   "execution_count": 198,
   "id": "3b5f3365",
   "metadata": {},
   "outputs": [
    {
     "data": {
      "text/html": [
       "<div>\n",
       "<style scoped>\n",
       "    .dataframe tbody tr th:only-of-type {\n",
       "        vertical-align: middle;\n",
       "    }\n",
       "\n",
       "    .dataframe tbody tr th {\n",
       "        vertical-align: top;\n",
       "    }\n",
       "\n",
       "    .dataframe thead th {\n",
       "        text-align: right;\n",
       "    }\n",
       "</style>\n",
       "<table border=\"1\" class=\"dataframe\">\n",
       "  <thead>\n",
       "    <tr style=\"text-align: right;\">\n",
       "      <th></th>\n",
       "      <th>rank</th>\n",
       "      <th>name</th>\n",
       "      <th>state_name</th>\n",
       "      <th>early_career_pay</th>\n",
       "      <th>mid_career_pay</th>\n",
       "      <th>stem_percent</th>\n",
       "    </tr>\n",
       "  </thead>\n",
       "  <tbody>\n",
       "    <tr>\n",
       "      <th>0</th>\n",
       "      <td>1</td>\n",
       "      <td>Auburn University</td>\n",
       "      <td>Alabama</td>\n",
       "      <td>54400</td>\n",
       "      <td>104500</td>\n",
       "      <td>31</td>\n",
       "    </tr>\n",
       "    <tr>\n",
       "      <th>1</th>\n",
       "      <td>2</td>\n",
       "      <td>University of Alabama in Huntsville</td>\n",
       "      <td>Alabama</td>\n",
       "      <td>57500</td>\n",
       "      <td>103900</td>\n",
       "      <td>45</td>\n",
       "    </tr>\n",
       "    <tr>\n",
       "      <th>2</th>\n",
       "      <td>3</td>\n",
       "      <td>The University of Alabama</td>\n",
       "      <td>Alabama</td>\n",
       "      <td>52300</td>\n",
       "      <td>97400</td>\n",
       "      <td>15</td>\n",
       "    </tr>\n",
       "    <tr>\n",
       "      <th>3</th>\n",
       "      <td>4</td>\n",
       "      <td>Tuskegee University</td>\n",
       "      <td>Alabama</td>\n",
       "      <td>54500</td>\n",
       "      <td>93500</td>\n",
       "      <td>30</td>\n",
       "    </tr>\n",
       "    <tr>\n",
       "      <th>4</th>\n",
       "      <td>5</td>\n",
       "      <td>Samford University</td>\n",
       "      <td>Alabama</td>\n",
       "      <td>48400</td>\n",
       "      <td>90500</td>\n",
       "      <td>3</td>\n",
       "    </tr>\n",
       "    <tr>\n",
       "      <th>...</th>\n",
       "      <td>...</td>\n",
       "      <td>...</td>\n",
       "      <td>...</td>\n",
       "      <td>...</td>\n",
       "      <td>...</td>\n",
       "      <td>...</td>\n",
       "    </tr>\n",
       "    <tr>\n",
       "      <th>930</th>\n",
       "      <td>22</td>\n",
       "      <td>Viterbo University</td>\n",
       "      <td>Wisconsin</td>\n",
       "      <td>46800</td>\n",
       "      <td>81900</td>\n",
       "      <td>3</td>\n",
       "    </tr>\n",
       "    <tr>\n",
       "      <th>931</th>\n",
       "      <td>23</td>\n",
       "      <td>Concordia University-Wisconsin</td>\n",
       "      <td>Wisconsin</td>\n",
       "      <td>46700</td>\n",
       "      <td>81600</td>\n",
       "      <td>9</td>\n",
       "    </tr>\n",
       "    <tr>\n",
       "      <th>932</th>\n",
       "      <td>24</td>\n",
       "      <td>University of Wisconsin-Parkside</td>\n",
       "      <td>Wisconsin</td>\n",
       "      <td>46000</td>\n",
       "      <td>81400</td>\n",
       "      <td>17</td>\n",
       "    </tr>\n",
       "    <tr>\n",
       "      <th>933</th>\n",
       "      <td>25</td>\n",
       "      <td>University of Wisconsin-River Falls</td>\n",
       "      <td>Wisconsin</td>\n",
       "      <td>47100</td>\n",
       "      <td>81300</td>\n",
       "      <td>14</td>\n",
       "    </tr>\n",
       "    <tr>\n",
       "      <th>934</th>\n",
       "      <td>1</td>\n",
       "      <td>University of Wyoming</td>\n",
       "      <td>Wyoming</td>\n",
       "      <td>52400</td>\n",
       "      <td>98800</td>\n",
       "      <td>25</td>\n",
       "    </tr>\n",
       "  </tbody>\n",
       "</table>\n",
       "<p>934 rows × 6 columns</p>\n",
       "</div>"
      ],
      "text/plain": [
       "     rank                                 name state_name  early_career_pay  \\\n",
       "0       1                    Auburn University    Alabama             54400   \n",
       "1       2  University of Alabama in Huntsville    Alabama             57500   \n",
       "2       3            The University of Alabama    Alabama             52300   \n",
       "3       4                  Tuskegee University    Alabama             54500   \n",
       "4       5                   Samford University    Alabama             48400   \n",
       "..    ...                                  ...        ...               ...   \n",
       "930    22                   Viterbo University  Wisconsin             46800   \n",
       "931    23       Concordia University-Wisconsin  Wisconsin             46700   \n",
       "932    24     University of Wisconsin-Parkside  Wisconsin             46000   \n",
       "933    25  University of Wisconsin-River Falls  Wisconsin             47100   \n",
       "934     1                University of Wyoming    Wyoming             52400   \n",
       "\n",
       "     mid_career_pay  stem_percent  \n",
       "0            104500            31  \n",
       "1            103900            45  \n",
       "2             97400            15  \n",
       "3             93500            30  \n",
       "4             90500             3  \n",
       "..              ...           ...  \n",
       "930           81900             3  \n",
       "931           81600             9  \n",
       "932           81400            17  \n",
       "933           81300            14  \n",
       "934           98800            25  \n",
       "\n",
       "[934 rows x 6 columns]"
      ]
     },
     "execution_count": 198,
     "metadata": {},
     "output_type": "execute_result"
    }
   ],
   "source": [
    "df_usa_salary_potential = df_usa_salary_potential.drop(columns=['make_world_better_percent'])\n",
    "df_usa_salary_potential = df_usa_salary_potential.drop_duplicates(keep='last') #keep only one of the duplicated rows.\n",
    "df_usa_salary_potential"
   ]
  },
  {
   "cell_type": "code",
   "execution_count": 199,
   "id": "764bdfd5",
   "metadata": {},
   "outputs": [
    {
     "name": "stdout",
     "output_type": "stream",
     "text": [
      "---------------------------------------------------\n",
      "Table NaN values count for each column\n",
      "\n",
      "Year                      0\n",
      "Total                     2\n",
      "Total-Standard Error      2\n",
      "2-year                    2\n",
      "2-year-Standard Error     2\n",
      "4-year                    2\n",
      "4-year-Standard Error     2\n",
      "Unnamed: 7               14\n",
      "dtype: int64 \n",
      "\n",
      "Table duplicated rows count 0 \n",
      "\n",
      "---------------------------------------------------\n",
      "---------------------------------------------------\n",
      "Table NaN values count for each column\n",
      "\n",
      "Race/ethnicity          0\n",
      "2010                    2\n",
      "2010-Standard Error     2\n",
      "2021                    2\n",
      "2021-Standard Error     2\n",
      "Unnamed: 5             10\n",
      "dtype: int64 \n",
      "\n",
      "Table duplicated rows count 0 \n",
      "\n",
      "---------------------------------------------------\n"
     ]
    }
   ],
   "source": [
    "peekData(df_usa_college_enroll_rate)\n",
    "peekData(df_usa_college_enroll_rate_enthnicity)"
   ]
  },
  {
   "cell_type": "markdown",
   "id": "d39409ce",
   "metadata": {},
   "source": [
    "From the table, we will get rid of the NaN values and then the last 2 rows (we can see why from Step 1 Data Collection). The column names look clean and the overall table is small. Easy to process :)"
   ]
  },
  {
   "cell_type": "code",
   "execution_count": 200,
   "id": "73718352",
   "metadata": {},
   "outputs": [],
   "source": [
    "df_usa_college_enroll_rate_enthnicity = df_usa_college_enroll_rate_enthnicity.copy()\n",
    "df_usa_college_enroll_rate = df_usa_college_enroll_rate.iloc[:-2, :-1] #get rid of last 2 rows and last column\n",
    "df_usa_college_enroll_rate_enthnicity = df_usa_college_enroll_rate_enthnicity.iloc[:-2, :-1]\n",
    "\n",
    "#uncomment to double check\n",
    "#df_usa_college_enroll_rate\n",
    "#df_usa_college_enroll_rate_enthnicity"
   ]
  },
  {
   "cell_type": "code",
   "execution_count": 201,
   "id": "52c40d4d",
   "metadata": {},
   "outputs": [
    {
     "name": "stdout",
     "output_type": "stream",
     "text": [
      "---------------------------------------------------\n",
      "Table NaN values count for each column\n",
      "\n",
      "Marital status                                    0\n",
      "Application mode                                  0\n",
      "Application order                                 0\n",
      "Course                                            0\n",
      "Daytime/evening attendance                        0\n",
      "Previous qualification                            0\n",
      "Previous qualification (grade)                    0\n",
      "Nacionality                                       0\n",
      "Mother's qualification                            0\n",
      "Father's qualification                            0\n",
      "Mother's occupation                               0\n",
      "Father's occupation                               0\n",
      "Admission grade                                   0\n",
      "Displaced                                         0\n",
      "Educational special needs                         0\n",
      "Debtor                                            0\n",
      "Tuition fees up to date                           0\n",
      "Gender                                            0\n",
      "Scholarship holder                                0\n",
      "Age at enrollment                                 0\n",
      "International                                     0\n",
      "Curricular units 1st sem (credited)               0\n",
      "Curricular units 1st sem (enrolled)               0\n",
      "Curricular units 1st sem (evaluations)            0\n",
      "Curricular units 1st sem (approved)               0\n",
      "Curricular units 1st sem (grade)                  0\n",
      "Curricular units 1st sem (without evaluations)    0\n",
      "Curricular units 2nd sem (credited)               0\n",
      "Curricular units 2nd sem (enrolled)               0\n",
      "Curricular units 2nd sem (evaluations)            0\n",
      "Curricular units 2nd sem (approved)               0\n",
      "Curricular units 2nd sem (grade)                  0\n",
      "Curricular units 2nd sem (without evaluations)    0\n",
      "Unemployment rate                                 0\n",
      "Inflation rate                                    0\n",
      "GDP                                               0\n",
      "Target                                            0\n",
      "dtype: int64 \n",
      "\n",
      "Table duplicated rows count 0 \n",
      "\n",
      "---------------------------------------------------\n"
     ]
    }
   ],
   "source": [
    "peekData(df_europe_students)"
   ]
  },
  {
   "cell_type": "markdown",
   "id": "c1660a31",
   "metadata": {},
   "source": [
    "Observed: Good. For the Europe Student dataset, there is no need to clean the data.  "
   ]
  },
  {
   "cell_type": "markdown",
   "id": "5ce9a385",
   "metadata": {},
   "source": [
    "## Step 3: Exploratory Data Analysis(EDA) & Visualization"
   ]
  },
  {
   "cell_type": "markdown",
   "id": "8e5442b3",
   "metadata": {},
   "source": [
    "The data for children work may not be perfect to visualize. However, let's first see the overall view, and then do a scatter plot."
   ]
  },
  {
   "cell_type": "code",
   "execution_count": 202,
   "id": "13f1f487",
   "metadata": {},
   "outputs": [
    {
     "name": "stdout",
     "output_type": "stream",
     "text": [
      "Children age 7-14 working years to visualize: [1999 2000 2001 2005 2006 2007 2008 2009 2010 2011 2012 2013 2014 2015\n",
      " 2016]\n"
     ]
    },
    {
     "data": {
      "text/html": [
       "<div>\n",
       "<style scoped>\n",
       "    .dataframe tbody tr th:only-of-type {\n",
       "        vertical-align: middle;\n",
       "    }\n",
       "\n",
       "    .dataframe tbody tr th {\n",
       "        vertical-align: top;\n",
       "    }\n",
       "\n",
       "    .dataframe thead th {\n",
       "        text-align: right;\n",
       "    }\n",
       "</style>\n",
       "<table border=\"1\" class=\"dataframe\">\n",
       "  <thead>\n",
       "    <tr style=\"text-align: right;\">\n",
       "      <th></th>\n",
       "      <th>Year</th>\n",
       "      <th>Work_only_pct</th>\n",
       "      <th>Work_study(hrs/week)</th>\n",
       "      <th>Population</th>\n",
       "    </tr>\n",
       "  </thead>\n",
       "  <tbody>\n",
       "    <tr>\n",
       "      <th>count</th>\n",
       "      <td>132.000000</td>\n",
       "      <td>132.000000</td>\n",
       "      <td>132.00000</td>\n",
       "      <td>1.320000e+02</td>\n",
       "    </tr>\n",
       "    <tr>\n",
       "      <th>mean</th>\n",
       "      <td>2010.515152</td>\n",
       "      <td>21.194017</td>\n",
       "      <td>13.61419</td>\n",
       "      <td>3.247172e+07</td>\n",
       "    </tr>\n",
       "    <tr>\n",
       "      <th>std</th>\n",
       "      <td>3.554343</td>\n",
       "      <td>18.363822</td>\n",
       "      <td>7.41143</td>\n",
       "      <td>5.065799e+07</td>\n",
       "    </tr>\n",
       "    <tr>\n",
       "      <th>min</th>\n",
       "      <td>1999.000000</td>\n",
       "      <td>0.000000</td>\n",
       "      <td>1.90000</td>\n",
       "      <td>1.019369e+06</td>\n",
       "    </tr>\n",
       "    <tr>\n",
       "      <th>25%</th>\n",
       "      <td>2009.000000</td>\n",
       "      <td>6.539222</td>\n",
       "      <td>8.37500</td>\n",
       "      <td>5.986888e+06</td>\n",
       "    </tr>\n",
       "    <tr>\n",
       "      <th>50%</th>\n",
       "      <td>2011.000000</td>\n",
       "      <td>17.528625</td>\n",
       "      <td>13.05000</td>\n",
       "      <td>1.237385e+07</td>\n",
       "    </tr>\n",
       "    <tr>\n",
       "      <th>75%</th>\n",
       "      <td>2013.000000</td>\n",
       "      <td>32.422263</td>\n",
       "      <td>16.50000</td>\n",
       "      <td>2.939637e+07</td>\n",
       "    </tr>\n",
       "    <tr>\n",
       "      <th>max</th>\n",
       "      <td>2016.000000</td>\n",
       "      <td>89.345680</td>\n",
       "      <td>40.30000</td>\n",
       "      <td>2.440162e+08</td>\n",
       "    </tr>\n",
       "  </tbody>\n",
       "</table>\n",
       "</div>"
      ],
      "text/plain": [
       "              Year  Work_only_pct  Work_study(hrs/week)    Population\n",
       "count   132.000000     132.000000             132.00000  1.320000e+02\n",
       "mean   2010.515152      21.194017              13.61419  3.247172e+07\n",
       "std       3.554343      18.363822               7.41143  5.065799e+07\n",
       "min    1999.000000       0.000000               1.90000  1.019369e+06\n",
       "25%    2009.000000       6.539222               8.37500  5.986888e+06\n",
       "50%    2011.000000      17.528625              13.05000  1.237385e+07\n",
       "75%    2013.000000      32.422263              16.50000  2.939637e+07\n",
       "max    2016.000000      89.345680              40.30000  2.440162e+08"
      ]
     },
     "metadata": {},
     "output_type": "display_data"
    }
   ],
   "source": [
    "df_children_work = df_children_work.sort_values(by='Year')\n",
    "#display(df_children_work)\n",
    "print('Children age 7-14 working years to visualize:', df_children_work['Year'].unique())\n",
    "display(df_children_work.describe())"
   ]
  },
  {
   "cell_type": "code",
   "execution_count": null,
   "id": "a32dc694",
   "metadata": {},
   "outputs": [],
   "source": []
  },
  {
   "cell_type": "code",
   "execution_count": null,
   "id": "5197cd06",
   "metadata": {},
   "outputs": [],
   "source": []
  },
  {
   "cell_type": "code",
   "execution_count": null,
   "id": "f77bb45d",
   "metadata": {},
   "outputs": [],
   "source": []
  }
 ],
 "metadata": {
  "kernelspec": {
   "display_name": "Python 3 (ipykernel)",
   "language": "python",
   "name": "python3"
  },
  "language_info": {
   "codemirror_mode": {
    "name": "ipython",
    "version": 3
   },
   "file_extension": ".py",
   "mimetype": "text/x-python",
   "name": "python",
   "nbconvert_exporter": "python",
   "pygments_lexer": "ipython3",
   "version": "3.11.3"
  }
 },
 "nbformat": 4,
 "nbformat_minor": 5
}
